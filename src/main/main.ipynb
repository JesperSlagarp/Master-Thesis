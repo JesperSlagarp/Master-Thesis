{
 "cells": [
  {
   "cell_type": "markdown",
   "id": "209c62bb",
   "metadata": {},
   "source": [
    "## Initial setup"
   ]
  },
  {
   "cell_type": "markdown",
   "id": "16f2437b",
   "metadata": {},
   "source": [
    "Picks GPU, prepares file structure and initializes variables"
   ]
  },
  {
   "cell_type": "code",
   "execution_count": 1,
   "id": "92bc2f83-2bf3-4108-acdc-3428f32b91b5",
   "metadata": {
    "tags": []
   },
   "outputs": [
    {
     "name": "stderr",
     "output_type": "stream",
     "text": [
      "2024-03-25 15:24:35.476100: I tensorflow/core/util/port.cc:113] oneDNN custom operations are on. You may see slightly different numerical results due to floating-point round-off errors from different computation orders. To turn them off, set the environment variable `TF_ENABLE_ONEDNN_OPTS=0`.\n",
      "2024-03-25 15:24:35.496302: E external/local_xla/xla/stream_executor/cuda/cuda_dnn.cc:9261] Unable to register cuDNN factory: Attempting to register factory for plugin cuDNN when one has already been registered\n",
      "2024-03-25 15:24:35.496314: E external/local_xla/xla/stream_executor/cuda/cuda_fft.cc:607] Unable to register cuFFT factory: Attempting to register factory for plugin cuFFT when one has already been registered\n",
      "2024-03-25 15:24:35.496848: E external/local_xla/xla/stream_executor/cuda/cuda_blas.cc:1515] Unable to register cuBLAS factory: Attempting to register factory for plugin cuBLAS when one has already been registered\n",
      "2024-03-25 15:24:35.500821: I tensorflow/core/platform/cpu_feature_guard.cc:182] This TensorFlow binary is optimized to use available CPU instructions in performance-critical operations.\n",
      "To enable the following instructions: AVX2 AVX512F AVX512_VNNI AVX512_BF16 FMA, in other operations, rebuild TensorFlow with the appropriate compiler flags.\n",
      "2024-03-25 15:24:35.874519: W tensorflow/compiler/tf2tensorrt/utils/py_utils.cc:38] TF-TRT Warning: Could not find TensorRT\n"
     ]
    },
    {
     "name": "stdout",
     "output_type": "stream",
     "text": [
      "Avaliable GPUs:\n",
      "/physical_device:GPU:0\n",
      "Chosen GPU: /physical_device:GPU:0\n",
      "Current working directory: /home/slagarp/Master-Thesis/src/main\n"
     ]
    },
    {
     "name": "stderr",
     "output_type": "stream",
     "text": [
      "2024-03-25 15:24:36.283658: I external/local_xla/xla/stream_executor/cuda/cuda_executor.cc:887] could not open file to read NUMA node: /sys/bus/pci/devices/0000:01:00.0/numa_node\n",
      "Your kernel may have been built without NUMA support.\n",
      "2024-03-25 15:24:36.295927: I external/local_xla/xla/stream_executor/cuda/cuda_executor.cc:887] could not open file to read NUMA node: /sys/bus/pci/devices/0000:01:00.0/numa_node\n",
      "Your kernel may have been built without NUMA support.\n",
      "2024-03-25 15:24:36.295962: I external/local_xla/xla/stream_executor/cuda/cuda_executor.cc:887] could not open file to read NUMA node: /sys/bus/pci/devices/0000:01:00.0/numa_node\n",
      "Your kernel may have been built without NUMA support.\n"
     ]
    }
   ],
   "source": [
    "import tensorflow as tf\n",
    "import os\n",
    "import sys\n",
    "\n",
    "physical_devices = tf.config.list_physical_devices('GPU')\n",
    "print(\"Avaliable GPUs:\")\n",
    "for device in physical_devices:\n",
    "    print(device.name)\n",
    "print(f\"Chosen GPU: {physical_devices[-1].name}\")\n",
    "tf.config.set_visible_devices(physical_devices[-1], 'GPU')\n",
    "\n",
    "path_common= os.path.dirname(os.path.abspath('')) + \"/common/\"\n",
    "sys.path.append(path_common)\n",
    "print(\"Current working directory:\", os.getcwd())\n",
    "\n",
    "model, hpo_search_function, hpo_n_epochs_max, hpo_max_trials, hpo_batch_size = [None] * 5"
   ]
  },
  {
   "cell_type": "markdown",
   "id": "c6d8aa61",
   "metadata": {},
   "source": [
    "# Pick your model"
   ]
  },
  {
   "cell_type": "markdown",
   "id": "9a381087",
   "metadata": {},
   "source": [
    "Available options:\n",
    "\n",
    "- FCN:                Fully Convultional Neural Network\n",
    "- ResNet:             Residual Neural Network\n",
    "- LSTM_FCN:           Long Short Term Memory with Fully Convulutional Network\n",
    "- Transformer:        ransformer Based model"
   ]
  },
  {
   "cell_type": "code",
   "execution_count": 2,
   "id": "9464846e",
   "metadata": {},
   "outputs": [],
   "source": [
    "from ModelFuncs import FCN, ResNet, LSTM_FCN, Transformer\n",
    "model = FCN()"
   ]
  },
  {
   "cell_type": "markdown",
   "id": "5e5c3cd6",
   "metadata": {},
   "source": [
    "## Hyper Parameter Optimization"
   ]
  },
  {
   "cell_type": "markdown",
   "id": "5391cbbd",
   "metadata": {},
   "source": [
    "Pick search function and tuning parameters\n",
    "\n",
    "Available search functions:\n",
    "- random:               Random Search\n",
    "- bayesian:             Bayesian Optimization\n",
    "\n",
    "Available parameters:\n",
    "- hpo_n_epochs_max\n",
    "- hpo_max_trials\n",
    "- hpo_batch_size"
   ]
  },
  {
   "cell_type": "code",
   "execution_count": 3,
   "id": "d859629d",
   "metadata": {},
   "outputs": [],
   "source": [
    "from HyperParameterTuning import Tuner\n",
    "\n",
    "hpo_search_function = \"bayesian\"\n",
    "\n",
    "hpo_n_epochs_max = 3\n",
    "hpo_max_trials = 5\n",
    "hpo_batch_size = 128\n",
    "\n",
    "hpo_tuner = Tuner(model, n_epochs_max = hpo_n_epochs_max, max_trials = hpo_max_trials, batch_size = hpo_batch_size, search_function=hpo_search_function, skip_folds = 3)"
   ]
  },
  {
   "cell_type": "markdown",
   "id": "25e2010d",
   "metadata": {},
   "source": [
    "Run hyper parameter tuning"
   ]
  },
  {
   "cell_type": "code",
   "execution_count": 4,
   "id": "72bf1595",
   "metadata": {},
   "outputs": [
    {
     "name": "stdout",
     "output_type": "stream",
     "text": [
      "Trial 5 Complete [00h 00m 42s]\n",
      "val_loss: 1.8514328598976135\n",
      "\n",
      "Best val_loss So Far: 1.8468377590179443\n",
      "Total elapsed time: 00h 03m 34s\n",
      "Results summary\n",
      "Results in ../../results/bayesian/FCN\n",
      "Showing 10 best trials\n",
      "Objective(name=\"val_loss\", direction=\"min\")\n",
      "\n",
      "Trial 3 summary\n",
      "Hyperparameters:\n",
      "filters_block_0: 32\n",
      "kernel_size_block_0: 9\n",
      "Score: 1.8468377590179443\n",
      "\n",
      "Trial 1 summary\n",
      "Hyperparameters:\n",
      "filters_block_0: 32\n",
      "kernel_size_block_0: 13\n",
      "Score: 1.8511515855789185\n",
      "\n",
      "Trial 4 summary\n",
      "Hyperparameters:\n",
      "filters_block_0: 32\n",
      "kernel_size_block_0: 7\n",
      "Score: 1.8514328598976135\n",
      "\n",
      "Trial 2 summary\n",
      "Hyperparameters:\n",
      "filters_block_0: 32\n",
      "kernel_size_block_0: 3\n",
      "Score: 1.85228031873703\n",
      "\n",
      "Trial 0 summary\n",
      "Hyperparameters:\n",
      "filters_block_0: 32\n",
      "kernel_size_block_0: 11\n",
      "Score: 1.8541500568389893\n"
     ]
    }
   ],
   "source": [
    "#%%capture output\n",
    "hpo_tuner.tune()\n",
    "#output.show()"
   ]
  },
  {
   "cell_type": "code",
   "execution_count": 5,
   "id": "8cb0c943",
   "metadata": {},
   "outputs": [
    {
     "name": "stdout",
     "output_type": "stream",
     "text": [
      "Reloading Tuner from ../../results/bayesian/FCN/tuner0.json\n",
      "Results summary\n",
      "Results in ../../results/bayesian/FCN\n",
      "Showing 10 best trials\n",
      "Objective(name=\"val_loss\", direction=\"min\")\n",
      "\n",
      "Trial 3 summary\n",
      "Hyperparameters:\n",
      "filters_block_0: 32\n",
      "kernel_size_block_0: 9\n",
      "Score: 1.8468377590179443\n",
      "\n",
      "Trial 1 summary\n",
      "Hyperparameters:\n",
      "filters_block_0: 32\n",
      "kernel_size_block_0: 13\n",
      "Score: 1.8511515855789185\n",
      "\n",
      "Trial 4 summary\n",
      "Hyperparameters:\n",
      "filters_block_0: 32\n",
      "kernel_size_block_0: 7\n",
      "Score: 1.8514328598976135\n",
      "\n",
      "Trial 2 summary\n",
      "Hyperparameters:\n",
      "filters_block_0: 32\n",
      "kernel_size_block_0: 3\n",
      "Score: 1.85228031873703\n",
      "\n",
      "Trial 0 summary\n",
      "Hyperparameters:\n",
      "filters_block_0: 32\n",
      "kernel_size_block_0: 11\n",
      "Score: 1.8541500568389893\n"
     ]
    }
   ],
   "source": [
    "hpo_tuner.summary()"
   ]
  },
  {
   "cell_type": "markdown",
   "id": "62d8d0c8",
   "metadata": {},
   "source": [
    "## Train Model"
   ]
  },
  {
   "cell_type": "markdown",
   "id": "4ed11f28",
   "metadata": {},
   "source": [
    "Get best hyper parameters"
   ]
  },
  {
   "cell_type": "code",
   "execution_count": 6,
   "id": "9bdf618d",
   "metadata": {},
   "outputs": [
    {
     "name": "stdout",
     "output_type": "stream",
     "text": [
      "Reloading Tuner from ../../results/bayesian/FCN/tuner0.json\n",
      "Model: \"model_11\"\n",
      "_________________________________________________________________\n",
      " Layer (type)                Output Shape              Param #   \n",
      "=================================================================\n",
      " input (InputLayer)          [(None, None, 1)]         0         \n",
      "                                                                 \n",
      " conv1d_11 (Conv1D)          (None, None, 32)          320       \n",
      "                                                                 \n",
      " batch_normalization_11 (Ba  (None, None, 32)          128       \n",
      " tchNormalization)                                               \n",
      "                                                                 \n",
      " activation_11 (Activation)  (None, None, 32)          0         \n",
      "                                                                 \n",
      " global_average_pooling1d_1  (None, 32)                0         \n",
      " 1 (GlobalAveragePooling1D)                                      \n",
      "                                                                 \n",
      " output_barcode (Dense)      (None, 8)                 264       \n",
      "                                                                 \n",
      "=================================================================\n",
      "Total params: 712 (2.78 KB)\n",
      "Trainable params: 648 (2.53 KB)\n",
      "Non-trainable params: 64 (256.00 Byte)\n",
      "_________________________________________________________________\n"
     ]
    }
   ],
   "source": [
    "tuner_object = hpo_tuner.get_tuner()\n",
    "\n",
    "tuner_object.reload()\n",
    "\n",
    "best_hps = tuner_object.get_best_hyperparameters()[0]\n",
    "\n",
    "best_model = model.build(best_hps)\n",
    "\n",
    "best_model.summary()\n",
    "\n"
   ]
  },
  {
   "cell_type": "markdown",
   "id": "d9917e58",
   "metadata": {},
   "source": [
    "Train model"
   ]
  },
  {
   "cell_type": "code",
   "execution_count": 7,
   "id": "4cd0d86c",
   "metadata": {},
   "outputs": [
    {
     "name": "stdout",
     "output_type": "stream",
     "text": [
      "=== Epoch: 0 ===\n",
      "397/397 [==============================] - 3s 8ms/step - loss: 1.8129 - accuracy: 0.3060 - val_loss: 1.7814 - val_accuracy: 0.3051\n",
      "  prep time: 1.4 sec   train time: 3.5 sec\n",
      "=== Epoch: 1 ===\n",
      "397/397 [==============================] - 3s 7ms/step - loss: 1.7415 - accuracy: 0.3472 - val_loss: 1.6877 - val_accuracy: 0.3803\n",
      "  prep time: 1.5 sec   train time: 3.0 sec\n",
      "=== Epoch: 2 ===\n",
      "397/397 [==============================] - 3s 7ms/step - loss: 1.7225 - accuracy: 0.3522 - val_loss: 1.6718 - val_accuracy: 0.3836\n",
      "  prep time: 1.4 sec   train time: 3.0 sec\n",
      "=== Epoch: 3 ===\n",
      "397/397 [==============================] - 3s 7ms/step - loss: 1.7156 - accuracy: 0.3532 - val_loss: 1.6661 - val_accuracy: 0.3916\n",
      "  prep time: 1.4 sec   train time: 3.0 sec\n",
      "=== Epoch: 4 ===\n",
      "397/397 [==============================] - 3s 7ms/step - loss: 1.7136 - accuracy: 0.3541 - val_loss: 1.6586 - val_accuracy: 0.3925\n",
      "  prep time: 1.4 sec   train time: 3.0 sec\n",
      "=== Epoch: 5 ===\n",
      "397/397 [==============================] - 3s 7ms/step - loss: 1.7122 - accuracy: 0.3540 - val_loss: 1.6554 - val_accuracy: 0.3902\n",
      "  prep time: 1.4 sec   train time: 3.0 sec\n",
      "=== Epoch: 6 ===\n",
      "397/397 [==============================] - 3s 7ms/step - loss: 1.7071 - accuracy: 0.3543 - val_loss: 1.6506 - val_accuracy: 0.3784\n",
      "  prep time: 1.4 sec   train time: 3.0 sec\n",
      "=== Epoch: 7 ===\n",
      "397/397 [==============================] - 3s 7ms/step - loss: 1.7018 - accuracy: 0.3557 - val_loss: 1.6471 - val_accuracy: 0.3916\n",
      "  prep time: 1.4 sec   train time: 3.0 sec\n",
      "=== Epoch: 8 ===\n",
      "397/397 [==============================] - 3s 7ms/step - loss: 1.6998 - accuracy: 0.3552 - val_loss: 1.6438 - val_accuracy: 0.3902\n",
      "  prep time: 1.4 sec   train time: 3.0 sec\n",
      "=== Epoch: 9 ===\n",
      "397/397 [==============================] - 3s 7ms/step - loss: 1.6937 - accuracy: 0.3573 - val_loss: 1.6553 - val_accuracy: 0.4020\n",
      "  prep time: 1.4 sec   train time: 3.0 sec\n",
      "Stopping learning because of early stopping:\n",
      "       [ loss , accuracy ]\n",
      "Train: [1.6439214944839478, 0.3878105580806732]\n",
      "Validation  : [1.6437766551971436, 0.3901747763156891]\n",
      "Test : [1.6773719787597656, 0.4890746772289276]\n"
     ]
    },
    {
     "data": {
      "text/plain": [
       "(0.3878105580806732,\n",
       " 1.6439214944839478,\n",
       " 0.3901747763156891,\n",
       " 1.6437766551971436,\n",
       " 0.4890746772289276,\n",
       " 1.6773719787597656,\n",
       " 9)"
      ]
     },
     "execution_count": 7,
     "metadata": {},
     "output_type": "execute_result"
    }
   ],
   "source": [
    "from ModelTrainer import ModelTrainer\n",
    "mt=ModelTrainer(n_epochs_max=10, tb_folder=\"../../results/tb_logs/standard/\"); \n",
    "mt.start_train_es(best_model)"
   ]
  }
 ],
 "metadata": {
  "kernelspec": {
   "display_name": "Python 3",
   "language": "python",
   "name": "python3"
  },
  "language_info": {
   "codemirror_mode": {
    "name": "ipython",
    "version": 3
   },
   "file_extension": ".py",
   "mimetype": "text/x-python",
   "name": "python",
   "nbconvert_exporter": "python",
   "pygments_lexer": "ipython3",
   "version": "3.10.12"
  }
 },
 "nbformat": 4,
 "nbformat_minor": 5
}
