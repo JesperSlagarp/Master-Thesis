{
 "cells": [
  {
   "cell_type": "code",
   "execution_count": 6,
   "id": "92bc2f83-2bf3-4108-acdc-3428f32b91b5",
   "metadata": {
    "tags": []
   },
   "outputs": [
    {
     "name": "stdout",
     "output_type": "stream",
     "text": [
      "Current working directory: /home/slagarp/Master-Thesis/ExampleCode/scripts/tests\n"
     ]
    }
   ],
   "source": [
    "import pandas as pd\n",
    "import numpy as np\n",
    "#import tensorflow as tf\n",
    "import copy\n",
    "import os\n",
    "import sys\n",
    "\n",
    "path_common=os.path.dirname(os.path.abspath(''))+\"/common/\";\n",
    "sys.path.append(path_common) #Adds common path to import the python files\n",
    "print(\"Current working directory:\", os.getcwd())"
   ]
  },
  {
   "cell_type": "markdown",
   "id": "deb6d6a9-155d-49e3-aaa2-fcc9e5126e48",
   "metadata": {
    "tags": []
   },
   "source": [
    "## Cross-valuation"
   ]
  },
  {
   "cell_type": "code",
   "execution_count": 1,
   "id": "9211c29a",
   "metadata": {
    "tags": []
   },
   "outputs": [
    {
     "ename": "ModuleNotFoundError",
     "evalue": "No module named 'ModelTrainer'",
     "output_type": "error",
     "traceback": [
      "\u001b[0;31m---------------------------------------------------------------------------\u001b[0m",
      "\u001b[0;31mModuleNotFoundError\u001b[0m                       Traceback (most recent call last)",
      "Cell \u001b[0;32mIn[1], line 1\u001b[0m\n\u001b[0;32m----> 1\u001b[0m \u001b[38;5;28;01mfrom\u001b[39;00m \u001b[38;5;21;01mModelTrainer\u001b[39;00m \u001b[38;5;28;01mimport\u001b[39;00m ModelTrainer\n\u001b[1;32m      2\u001b[0m \u001b[38;5;28;01mfrom\u001b[39;00m \u001b[38;5;21;01mModelFuncs\u001b[39;00m \u001b[38;5;28;01mimport\u001b[39;00m get_resnet_model\n\u001b[1;32m      3\u001b[0m mt\u001b[38;5;241m=\u001b[39mModelTrainer(n_epochs_max\u001b[38;5;241m=\u001b[39m\u001b[38;5;241m5\u001b[39m); \u001b[38;5;66;03m#use_weights option weights classes instead of oversampling. track_losses is used to save each result for every cross-validation\u001b[39;00m\n",
      "\u001b[0;31mModuleNotFoundError\u001b[0m: No module named 'ModelTrainer'"
     ]
    }
   ],
   "source": [
    "from ModelTrainer import ModelTrainer\n",
    "from ModelFuncs import get_resnet_model\n",
    "mt=ModelTrainer(n_epochs_max=5); #use_weights option weights classes instead of oversampling. track_losses is used to save each result for every cross-validation\n",
    "#(model, modelinfo)=get_resnet_model();\n",
    "model, _ = get_resnet_model();\n",
    "mt.crossval_es(model, n_splits=5)"
   ]
  },
  {
   "cell_type": "markdown",
   "id": "5e5c3cd6",
   "metadata": {},
   "source": [
    "## HPO"
   ]
  },
  {
   "cell_type": "code",
   "execution_count": 5,
   "id": "72bf1595",
   "metadata": {},
   "outputs": [
    {
     "name": "stdout",
     "output_type": "stream",
     "text": [
      "Trial 3 Complete [00h 02m 34s]\n",
      "default_objective: -0.2206844985485077\n",
      "\n",
      "Best default_objective So Far: -0.3615686297416687\n",
      "Total elapsed time: 00h 09m 43s\n",
      "Results summary\n",
      "Results in ../../results/custom_eval\n",
      "Showing 10 best trials\n",
      "Objective(name=\"default_objective\", direction=\"min\")\n",
      "\n",
      "Trial 1 summary\n",
      "Hyperparameters:\n",
      "filters_block_0: 256\n",
      "kernel_size_block_0: 9\n",
      "num_layers: 4\n",
      "filters_block_1: 224\n",
      "kernel_size_block_1: 12\n",
      "filters_block_2: 320\n",
      "kernel_size_block_2: 3\n",
      "lr: 0.003858521960671514\n",
      "filters_block_3: 32\n",
      "kernel_size_block_3: 3\n",
      "filters_block_4: 32\n",
      "kernel_size_block_4: 3\n",
      "Score: -0.3615686297416687\n",
      "\n",
      "Trial 0 summary\n",
      "Hyperparameters:\n",
      "filters_block_0: 224\n",
      "kernel_size_block_0: 12\n",
      "num_layers: 2\n",
      "filters_block_1: 288\n",
      "kernel_size_block_1: 3\n",
      "filters_block_2: 416\n",
      "kernel_size_block_2: 9\n",
      "lr: 0.00015981491240774103\n",
      "Score: -0.3587098717689514\n",
      "\n",
      "Trial 2 summary\n",
      "Hyperparameters:\n",
      "filters_block_0: 32\n",
      "kernel_size_block_0: 6\n",
      "num_layers: 3\n",
      "filters_block_1: 192\n",
      "kernel_size_block_1: 9\n",
      "filters_block_2: 448\n",
      "kernel_size_block_2: 6\n",
      "lr: 0.007912445575623542\n",
      "filters_block_3: 384\n",
      "kernel_size_block_3: 3\n",
      "filters_block_4: 320\n",
      "kernel_size_block_4: 6\n",
      "Score: -0.2206844985485077\n"
     ]
    }
   ],
   "source": [
    "from ModelFuncs import fcnHyperModel\n",
    "from HyperParameterTuning import tune\n",
    "\n",
    "tune(fcnHyperModel(), n_epochs_max = 2, max_trials = 3)"
   ]
  }
 ],
 "metadata": {
  "kernelspec": {
   "display_name": "Python 3",
   "language": "python",
   "name": "python3"
  },
  "language_info": {
   "codemirror_mode": {
    "name": "ipython",
    "version": 3
   },
   "file_extension": ".py",
   "mimetype": "text/x-python",
   "name": "python",
   "nbconvert_exporter": "python",
   "pygments_lexer": "ipython3",
   "version": "3.10.12"
  }
 },
 "nbformat": 4,
 "nbformat_minor": 5
}
