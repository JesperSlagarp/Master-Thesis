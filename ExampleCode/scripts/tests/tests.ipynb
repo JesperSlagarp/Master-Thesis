{
 "cells": [
  {
   "cell_type": "code",
   "execution_count": 1,
   "id": "92bc2f83-2bf3-4108-acdc-3428f32b91b5",
   "metadata": {
    "tags": []
   },
   "outputs": [
    {
     "name": "stderr",
     "output_type": "stream",
     "text": [
      "/tmp/ipykernel_45438/2034768389.py:1: DeprecationWarning: \n",
      "Pyarrow will become a required dependency of pandas in the next major release of pandas (pandas 3.0),\n",
      "(to allow more performant data types, such as the Arrow string type, and better interoperability with other libraries)\n",
      "but was not found to be installed on your system.\n",
      "If this would cause problems for you,\n",
      "please provide us feedback at https://github.com/pandas-dev/pandas/issues/54466\n",
      "        \n",
      "  import pandas as pd\n"
     ]
    }
   ],
   "source": [
    "import pandas as pd\n",
    "import numpy as np\n",
    "#import tensorflow as tf\n",
    "import copy"
   ]
  },
  {
   "cell_type": "code",
   "execution_count": 2,
   "id": "c519edef-ca89-4590-9ca0-9bbe8f3df005",
   "metadata": {
    "tags": []
   },
   "outputs": [
    {
     "name": "stdout",
     "output_type": "stream",
     "text": [
      "Current working directory: /home/slagarp/exjobb/ExampleCode/scripts/tests\n"
     ]
    }
   ],
   "source": [
    "import os\n",
    "import sys\n",
    "\n",
    "path_common=os.path.dirname(os.path.abspath(''))+\"/common/\";\n",
    "sys.path.append(path_common) #Adds common path to import the python files\n",
    "print(\"Current working directory:\", os.getcwd())"
   ]
  },
  {
   "cell_type": "markdown",
   "id": "deb6d6a9-155d-49e3-aaa2-fcc9e5126e48",
   "metadata": {
    "tags": []
   },
   "source": [
    "## Cross-valuation"
   ]
  },
  {
   "cell_type": "code",
   "execution_count": 3,
   "id": "9211c29a",
   "metadata": {
    "tags": []
   },
   "outputs": [
    {
     "name": "stderr",
     "output_type": "stream",
     "text": [
      "2024-03-02 12:58:09.903306: I tensorflow/core/util/port.cc:113] oneDNN custom operations are on. You may see slightly different numerical results due to floating-point round-off errors from different computation orders. To turn them off, set the environment variable `TF_ENABLE_ONEDNN_OPTS=0`.\n",
      "2024-03-02 12:58:09.923209: E external/local_xla/xla/stream_executor/cuda/cuda_dnn.cc:9261] Unable to register cuDNN factory: Attempting to register factory for plugin cuDNN when one has already been registered\n",
      "2024-03-02 12:58:09.923219: E external/local_xla/xla/stream_executor/cuda/cuda_fft.cc:607] Unable to register cuFFT factory: Attempting to register factory for plugin cuFFT when one has already been registered\n",
      "2024-03-02 12:58:09.923769: E external/local_xla/xla/stream_executor/cuda/cuda_blas.cc:1515] Unable to register cuBLAS factory: Attempting to register factory for plugin cuBLAS when one has already been registered\n",
      "2024-03-02 12:58:09.927343: I tensorflow/core/platform/cpu_feature_guard.cc:182] This TensorFlow binary is optimized to use available CPU instructions in performance-critical operations.\n",
      "To enable the following instructions: AVX2 AVX512F AVX512_VNNI AVX512_BF16 FMA, in other operations, rebuild TensorFlow with the appropriate compiler flags.\n",
      "2024-03-02 12:58:10.298993: W tensorflow/compiler/tf2tensorrt/utils/py_utils.cc:38] TF-TRT Warning: Could not find TensorRT\n",
      "2024-03-02 12:58:13.039058: I external/local_xla/xla/stream_executor/cuda/cuda_executor.cc:887] could not open file to read NUMA node: /sys/bus/pci/devices/0000:01:00.0/numa_node\n",
      "Your kernel may have been built without NUMA support.\n",
      "2024-03-02 12:58:13.050326: I external/local_xla/xla/stream_executor/cuda/cuda_executor.cc:887] could not open file to read NUMA node: /sys/bus/pci/devices/0000:01:00.0/numa_node\n",
      "Your kernel may have been built without NUMA support.\n",
      "2024-03-02 12:58:13.050362: I external/local_xla/xla/stream_executor/cuda/cuda_executor.cc:887] could not open file to read NUMA node: /sys/bus/pci/devices/0000:01:00.0/numa_node\n",
      "Your kernel may have been built without NUMA support.\n",
      "2024-03-02 12:58:13.051327: I external/local_xla/xla/stream_executor/cuda/cuda_executor.cc:887] could not open file to read NUMA node: /sys/bus/pci/devices/0000:01:00.0/numa_node\n",
      "Your kernel may have been built without NUMA support.\n",
      "2024-03-02 12:58:13.051358: I external/local_xla/xla/stream_executor/cuda/cuda_executor.cc:887] could not open file to read NUMA node: /sys/bus/pci/devices/0000:01:00.0/numa_node\n",
      "Your kernel may have been built without NUMA support.\n",
      "2024-03-02 12:58:13.051379: I external/local_xla/xla/stream_executor/cuda/cuda_executor.cc:887] could not open file to read NUMA node: /sys/bus/pci/devices/0000:01:00.0/numa_node\n",
      "Your kernel may have been built without NUMA support.\n",
      "2024-03-02 12:58:13.120898: I external/local_xla/xla/stream_executor/cuda/cuda_executor.cc:887] could not open file to read NUMA node: /sys/bus/pci/devices/0000:01:00.0/numa_node\n",
      "Your kernel may have been built without NUMA support.\n",
      "2024-03-02 12:58:13.120947: I external/local_xla/xla/stream_executor/cuda/cuda_executor.cc:887] could not open file to read NUMA node: /sys/bus/pci/devices/0000:01:00.0/numa_node\n",
      "Your kernel may have been built without NUMA support.\n",
      "2024-03-02 12:58:13.120953: I tensorflow/core/common_runtime/gpu/gpu_device.cc:2022] Could not identify NUMA node of platform GPU id 0, defaulting to 0.  Your kernel may not have been built with NUMA support.\n",
      "2024-03-02 12:58:13.120986: I external/local_xla/xla/stream_executor/cuda/cuda_executor.cc:887] could not open file to read NUMA node: /sys/bus/pci/devices/0000:01:00.0/numa_node\n",
      "Your kernel may have been built without NUMA support.\n",
      "2024-03-02 12:58:13.121002: I tensorflow/core/common_runtime/gpu/gpu_device.cc:1929] Created device /job:localhost/replica:0/task:0/device:GPU:0 with 6687 MB memory:  -> device: 0, name: NVIDIA GeForce GTX 1080, pci bus id: 0000:01:00.0, compute capability: 6.1\n"
     ]
    },
    {
     "name": "stdout",
     "output_type": "stream",
     "text": [
      "Starting fold 1\n",
      "Training set size: 35028, Validation set size: 17515\n",
      "[0 1 2 3 4 5 6 7]\n",
      "=== Epoch: 0 ===\n"
     ]
    },
    {
     "name": "stderr",
     "output_type": "stream",
     "text": [
      "2024-03-02 12:58:21.065212: I external/local_xla/xla/stream_executor/cuda/cuda_dnn.cc:454] Loaded cuDNN version 8904\n",
      "2024-03-02 12:58:21.138852: I external/local_tsl/tsl/platform/default/subprocess.cc:304] Start cannot spawn child process: No such file or directory\n",
      "2024-03-02 12:58:21.291494: I external/local_tsl/tsl/platform/default/subprocess.cc:304] Start cannot spawn child process: No such file or directory\n",
      "2024-03-02 12:58:22.289956: I external/local_xla/xla/service/service.cc:168] XLA service 0x7f1b48f5c160 initialized for platform CUDA (this does not guarantee that XLA will be used). Devices:\n",
      "2024-03-02 12:58:22.289976: I external/local_xla/xla/service/service.cc:176]   StreamExecutor device (0): NVIDIA GeForce GTX 1080, Compute Capability 6.1\n",
      "2024-03-02 12:58:22.292751: I tensorflow/compiler/mlir/tensorflow/utils/dump_mlir_util.cc:269] disabling MLIR crash reproducer, set env var `MLIR_CRASH_REPRODUCER_DIRECTORY` to enable.\n",
      "WARNING: All log messages before absl::InitializeLog() is called are written to STDERR\n",
      "I0000 00:00:1709380702.351062   45579 device_compiler.h:186] Compiled cluster using XLA!  This line is logged at most once for the lifetime of the process.\n"
     ]
    },
    {
     "name": "stdout",
     "output_type": "stream",
     "text": [
      "274/274 [==============================] - 48s 130ms/step - loss: 1.2964 - accuracy: 0.6407\n",
      "Validation ds:\n",
      "35/35 [==============================] - 5s 109ms/step - loss: 3.2742 - accuracy: 0.1012\n",
      "  prep time: 1.0 sec   train time: 53.6 sec\n",
      "Stopping learning because of early stopping:\n",
      "       [ loss , accuracy ]\n",
      "Train: [3.2707982063293457, 0.10034829378128052]\n",
      "Validation  : [3.2742302417755127, 0.1012275218963623]\n",
      "Test : [3.291482925415039, 0.0486246682703495]\n",
      "Starting fold 2\n",
      "Training set size: 35028, Validation set size: 17515\n",
      "Training set size: 35029, Validation set size: 17514\n",
      "[0 1 2 3 4 5 6 7]\n",
      "=== Epoch: 0 ===\n",
      "274/274 [==============================] - 45s 131ms/step - loss: 1.2022 - accuracy: 0.6595\n",
      "Validation ds:\n",
      "35/35 [==============================] - 4s 107ms/step - loss: 4.5920 - accuracy: 0.1139\n",
      "  prep time: 1.0 sec   train time: 49.2 sec\n",
      "Stopping learning because of early stopping:\n",
      "       [ loss , accuracy ]\n",
      "Train: [4.587379455566406, 0.11359159648418427]\n",
      "Validation  : [4.591965198516846, 0.11385177820920944]\n",
      "Test : [4.636742115020752, 0.04933451488614082]\n",
      "Starting fold 3\n",
      "Training set size: 35028, Validation set size: 17515\n",
      "Training set size: 35029, Validation set size: 17514\n",
      "Training set size: 35029, Validation set size: 17514\n",
      "[0 1 2 3 4 5 6 7]\n",
      "=== Epoch: 0 ===\n",
      "274/274 [==============================] - 44s 128ms/step - loss: 1.2456 - accuracy: 0.6646\n",
      "Validation ds:\n",
      "35/35 [==============================] - 4s 100ms/step - loss: 4.4175 - accuracy: 0.0550\n",
      "  prep time: 0.9 sec   train time: 48.4 sec\n",
      "Stopping learning because of early stopping:\n",
      "       [ loss , accuracy ]\n",
      "Train: [4.42570161819458, 0.05441205948591232]\n",
      "Validation  : [4.417539596557617, 0.055041681975126266]\n",
      "Test : [4.330430507659912, 0.03549245744943619]\n"
     ]
    }
   ],
   "source": [
    "from ModelTrainer import ModelTrainer\n",
    "from ModelFuncs import get_resnet_model\n",
    "mt=ModelTrainer(n_epochs_max=5); #use_weights option weights classes instead of oversampling. track_losses is used to save each result for every cross-validation\n",
    "#(model, modelinfo)=get_resnet_model();\n",
    "model, _ = get_resnet_model();\n",
    "mt.crossval_es(model, n_splits=5)"
   ]
  }
 ],
 "metadata": {
  "kernelspec": {
   "display_name": "Python 3",
   "language": "python",
   "name": "python3"
  },
  "language_info": {
   "codemirror_mode": {
    "name": "ipython",
    "version": 3
   },
   "file_extension": ".py",
   "mimetype": "text/x-python",
   "name": "python",
   "nbconvert_exporter": "python",
   "pygments_lexer": "ipython3",
   "version": "3.10.12"
  }
 },
 "nbformat": 4,
 "nbformat_minor": 5
}
